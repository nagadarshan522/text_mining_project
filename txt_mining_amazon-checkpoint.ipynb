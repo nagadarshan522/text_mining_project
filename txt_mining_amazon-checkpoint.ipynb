{
 "cells": [
  {
   "cell_type": "code",
   "execution_count": 85,
   "id": "127e17fa",
   "metadata": {},
   "outputs": [
    {
     "name": "stdout",
     "output_type": "stream",
     "text": [
      "Amazon.in:Customer reviews: Apple iPhone 13 Pro Max (128GB) - Graphite\n"
     ]
    }
   ],
   "source": [
    "import pandas as pd\n",
    "import requests\n",
    "from bs4 import BeautifulSoup\n",
    "from urllib.request import urlopen as uReq\n",
    "url='https://www.amazon.in/Apple-iPhone-Pro-Max-128GB/product-reviews/B09G9HR5GX/ref=cm_cr_dp_d_show_all_btm?ie=UTF8&reviewerType=all_reviews'\n",
    "\n",
    "#r= requests.get(url).text\n",
    "uClient=uReq(url)\n",
    "html_page=uClient.read()\n",
    "uClient.close()\n",
    "soup=BeautifulSoup(html_page, 'html.parser')\n",
    "\n",
    "print(soup.title.text)"
   ]
  },
  {
   "cell_type": "code",
   "execution_count": 86,
   "id": "7dc24ed9",
   "metadata": {},
   "outputs": [
    {
     "name": "stdout",
     "output_type": "stream",
     "text": [
      "10\n"
     ]
    }
   ],
   "source": [
    "reviews= soup.findAll(\"div\",{\"class\":\"a-section review aok-relative\"})\n",
    "print(len(reviews))"
   ]
  },
  {
   "cell_type": "code",
   "execution_count": 87,
   "id": "e3cf166c",
   "metadata": {},
   "outputs": [
    {
     "data": {
      "text/plain": [
       "<function print>"
      ]
     },
     "execution_count": 87,
     "metadata": {},
     "output_type": "execute_result"
    }
   ],
   "source": [
    "a_review=reviews[0]\n",
    "print "
   ]
  },
  {
   "cell_type": "code",
   "execution_count": 88,
   "id": "7ee40c75",
   "metadata": {},
   "outputs": [
    {
     "name": "stdout",
     "output_type": "stream",
     "text": [
      "1\n"
     ]
    }
   ],
   "source": [
    "product=soup.title.text.replace('Amazon.in:Customer reviews:','')\n",
    "title=a_review.find_all('a',{'data-hook':'review-title'})\n",
    "rating=a_review.find_all('i', {'data-hook':'review-star-rating'})\n",
    "body=a_review.find_all('span',{'data-hook':'review-body'})\n",
    " \n",
    "print(len(title))"
   ]
  },
  {
   "cell_type": "code",
   "execution_count": 89,
   "id": "8e3ca5ae",
   "metadata": {},
   "outputs": [
    {
     "name": "stdout",
     "output_type": "stream",
     "text": [
      "[<a class=\"a-size-base a-link-normal review-title a-color-base review-title-content a-text-bold\" data-hook=\"review-title\" href=\"/gp/customer-reviews/R2LC766FZ724CK?ASIN=B09G9HR5GX\">\n",
      "<span>iPhone is  depreciating asset 😡😡</span>\n",
      "</a>]\n"
     ]
    }
   ],
   "source": [
    "print(title)"
   ]
  },
  {
   "cell_type": "code",
   "execution_count": 92,
   "id": "4dcf9ad3",
   "metadata": {},
   "outputs": [
    {
     "data": {
      "text/plain": [
       "42"
      ]
     },
     "execution_count": 92,
     "metadata": {},
     "output_type": "execute_result"
    }
   ],
   "source": [
    "filename=\"amazon.csv\"\n",
    "f= open(filename,\"w\", encoding='utf-8')\n",
    "\n",
    "headers=\"product_name, title_review, rating, body \\n\"\n",
    "f.write(headers)"
   ]
  },
  {
   "cell_type": "code",
   "execution_count": 93,
   "id": "5711e761",
   "metadata": {},
   "outputs": [],
   "source": [
    "for a_review in reviews:\n",
    "    \n",
    "   \n",
    "    \n",
    "    title_r=a_review.find_all('a',{'data-hook':'review-title'})\n",
    "    title=title_r[0].text.strip()\n",
    "    \n",
    "    rating_r=a_review.find_all('i', {'data-hook':'review-star-rating'})\n",
    "    rating=rating_r[0].text.replace('out of 5 stars','').strip()\n",
    "    \n",
    "    body_r=a_review.find_all('span',{'data-hook':'review-body'})\n",
    "    body=body_r[0].text.strip()\n",
    "\n",
    "    \n",
    "    #print('product name:' + product_name)\n",
    "    #print('title:' + title )\n",
    "    #print('rating:' + rating)\n",
    "    #print('body:' + body)\n",
    "    #print(type(title))\n",
    "    \n",
    "    f.write(product_name + \",\" + title + \",\" + rating + \",\" + body + \"\\n\")\n",
    "f.close()\n",
    "\n",
    "    \n"
   ]
  },
  {
   "cell_type": "code",
   "execution_count": 113,
   "id": "cff26e0b",
   "metadata": {
    "scrolled": false
   },
   "outputs": [
    {
     "data": {
      "text/html": [
       "<div>\n",
       "<style scoped>\n",
       "    .dataframe tbody tr th:only-of-type {\n",
       "        vertical-align: middle;\n",
       "    }\n",
       "\n",
       "    .dataframe tbody tr th {\n",
       "        vertical-align: top;\n",
       "    }\n",
       "\n",
       "    .dataframe thead th {\n",
       "        text-align: right;\n",
       "    }\n",
       "</style>\n",
       "<table border=\"1\" class=\"dataframe\">\n",
       "  <thead>\n",
       "    <tr style=\"text-align: right;\">\n",
       "      <th></th>\n",
       "      <th>product_name</th>\n",
       "      <th>title_review</th>\n",
       "      <th>rating</th>\n",
       "      <th>body</th>\n",
       "    </tr>\n",
       "  </thead>\n",
       "  <tbody>\n",
       "    <tr>\n",
       "      <th>0</th>\n",
       "      <td>Apple iPhone 13 Pro Max (128GB) - Graphite</td>\n",
       "      <td>iPhone is  depreciating asset</td>\n",
       "      <td>1</td>\n",
       "      <td>According to me guysFirst of all I haven't pur...</td>\n",
       "    </tr>\n",
       "    <tr>\n",
       "      <th>1</th>\n",
       "      <td>Apple iPhone 13 Pro Max (128GB) - Graphite</td>\n",
       "      <td>Indians are paying 60000 more than Americans f...</td>\n",
       "      <td>1</td>\n",
       "      <td>Battery is great and performance is good but A...</td>\n",
       "    </tr>\n",
       "    <tr>\n",
       "      <th>2</th>\n",
       "      <td>Apple iPhone 13 Pro Max (128GB) - Graphite</td>\n",
       "      <td>Think carefully before buying</td>\n",
       "      <td>2</td>\n",
       "      <td>The product is good but think carefully before...</td>\n",
       "    </tr>\n",
       "    <tr>\n",
       "      <th>3</th>\n",
       "      <td>Apple iPhone 13 Pro Max (128GB) - Graphite</td>\n",
       "      <td>refund</td>\n",
       "      <td>1</td>\n",
       "      <td>refund</td>\n",
       "    </tr>\n",
       "    <tr>\n",
       "      <th>4</th>\n",
       "      <td>Apple iPhone 13 Pro Max (128GB) - Graphite</td>\n",
       "      <td>NEVER DISAPPOINTS..!!</td>\n",
       "      <td>5</td>\n",
       "      <td>The media could not be loaded.</td>\n",
       "    </tr>\n",
       "    <tr>\n",
       "      <th>5</th>\n",
       "      <td>Apple iPhone 13 Pro Max (128GB) - Graphite</td>\n",
       "      <td>Absolutely a stunner</td>\n",
       "      <td>5</td>\n",
       "      <td>I was very skeptical about the genuineness of ...</td>\n",
       "    </tr>\n",
       "    <tr>\n",
       "      <th>6</th>\n",
       "      <td>Apple iPhone 13 Pro Max (128GB) - Graphite</td>\n",
       "      <td>Glittering gold</td>\n",
       "      <td>5</td>\n",
       "      <td>The media could not be loaded.</td>\n",
       "    </tr>\n",
       "    <tr>\n",
       "      <th>7</th>\n",
       "      <td>Apple iPhone 13 Pro Max (128GB) - Graphite</td>\n",
       "      <td>What was apple thinking?</td>\n",
       "      <td>3</td>\n",
       "      <td>This phone is so heavy and slippery and hard t...</td>\n",
       "    </tr>\n",
       "    <tr>\n",
       "      <th>8</th>\n",
       "      <td>Apple iPhone 13 Pro Max (128GB) - Graphite</td>\n",
       "      <td>Good phone</td>\n",
       "      <td>4</td>\n",
       "      <td>1. Blue Colour is good.2. Battery is very long...</td>\n",
       "    </tr>\n",
       "    <tr>\n",
       "      <th>9</th>\n",
       "      <td>Apple iPhone 13 Pro Max (128GB) - Graphite</td>\n",
       "      <td>Amazing</td>\n",
       "      <td>5</td>\n",
       "      <td>Its amazing</td>\n",
       "    </tr>\n",
       "  </tbody>\n",
       "</table>\n",
       "</div>"
      ],
      "text/plain": [
       "                                  product_name  \\\n",
       "0   Apple iPhone 13 Pro Max (128GB) - Graphite   \n",
       "1   Apple iPhone 13 Pro Max (128GB) - Graphite   \n",
       "2   Apple iPhone 13 Pro Max (128GB) - Graphite   \n",
       "3   Apple iPhone 13 Pro Max (128GB) - Graphite   \n",
       "4   Apple iPhone 13 Pro Max (128GB) - Graphite   \n",
       "5   Apple iPhone 13 Pro Max (128GB) - Graphite   \n",
       "6   Apple iPhone 13 Pro Max (128GB) - Graphite   \n",
       "7   Apple iPhone 13 Pro Max (128GB) - Graphite   \n",
       "8   Apple iPhone 13 Pro Max (128GB) - Graphite   \n",
       "9   Apple iPhone 13 Pro Max (128GB) - Graphite   \n",
       "\n",
       "                                        title_review   rating  \\\n",
       "0                     iPhone is  depreciating asset         1   \n",
       "1  Indians are paying 60000 more than Americans f...        1   \n",
       "2                      Think carefully before buying        2   \n",
       "3                                             refund        1   \n",
       "4                              NEVER DISAPPOINTS..!!        5   \n",
       "5                               Absolutely a stunner        5   \n",
       "6                                    Glittering gold        5   \n",
       "7                           What was apple thinking?        3   \n",
       "8                                         Good phone        4   \n",
       "9                                           Amazing         5   \n",
       "\n",
       "                                               body   \n",
       "0  According to me guysFirst of all I haven't pur...  \n",
       "1  Battery is great and performance is good but A...  \n",
       "2  The product is good but think carefully before...  \n",
       "3                                             refund  \n",
       "4                     The media could not be loaded.  \n",
       "5  I was very skeptical about the genuineness of ...  \n",
       "6                     The media could not be loaded.  \n",
       "7  This phone is so heavy and slippery and hard t...  \n",
       "8  1. Blue Colour is good.2. Battery is very long...  \n",
       "9                                       Its amazing   "
      ]
     },
     "execution_count": 113,
     "metadata": {},
     "output_type": "execute_result"
    }
   ],
   "source": [
    "df=pd.read_csv(\"C:\\\\Users\\\\Lenovo\\\\amazon.csv\")\n",
    "df"
   ]
  },
  {
   "cell_type": "code",
   "execution_count": 117,
   "id": "aa365243",
   "metadata": {},
   "outputs": [],
   "source": [
    "df.columns=['product','title','rating','body']"
   ]
  },
  {
   "cell_type": "code",
   "execution_count": 118,
   "id": "e32aff67",
   "metadata": {},
   "outputs": [
    {
     "data": {
      "text/plain": [
       "pandas.core.frame.DataFrame"
      ]
     },
     "execution_count": 118,
     "metadata": {},
     "output_type": "execute_result"
    }
   ],
   "source": [
    "type(df)"
   ]
  },
  {
   "cell_type": "code",
   "execution_count": 119,
   "id": "3fc1d1af",
   "metadata": {},
   "outputs": [
    {
     "name": "stdout",
     "output_type": "stream",
     "text": [
      "0    According to me guysFirst of all I haven't pur...\n",
      "1    Battery is great and performance is good but A...\n",
      "2    The product is good but think carefully before...\n",
      "3                                               refund\n",
      "4                       The media could not be loaded.\n",
      "5    I was very skeptical about the genuineness of ...\n",
      "6                       The media could not be loaded.\n",
      "7    This phone is so heavy and slippery and hard t...\n",
      "8    1. Blue Colour is good.2. Battery is very long...\n",
      "9                                         Its amazing \n",
      "Name: body, dtype: object\n"
     ]
    }
   ],
   "source": [
    "print(df['body'])"
   ]
  },
  {
   "cell_type": "code",
   "execution_count": 106,
   "id": "2134ea7f",
   "metadata": {},
   "outputs": [],
   "source": [
    "from textblob import TextBlob\n",
    "pol= lambda x :TextBlob(x).sentiment.polarity\n",
    "sub= lambda x: TextBlob(x).sentiment.subjectivity"
   ]
  },
  {
   "cell_type": "code",
   "execution_count": 120,
   "id": "5be43928",
   "metadata": {},
   "outputs": [
    {
     "data": {
      "text/html": [
       "<div>\n",
       "<style scoped>\n",
       "    .dataframe tbody tr th:only-of-type {\n",
       "        vertical-align: middle;\n",
       "    }\n",
       "\n",
       "    .dataframe tbody tr th {\n",
       "        vertical-align: top;\n",
       "    }\n",
       "\n",
       "    .dataframe thead th {\n",
       "        text-align: right;\n",
       "    }\n",
       "</style>\n",
       "<table border=\"1\" class=\"dataframe\">\n",
       "  <thead>\n",
       "    <tr style=\"text-align: right;\">\n",
       "      <th></th>\n",
       "      <th>product</th>\n",
       "      <th>title</th>\n",
       "      <th>rating</th>\n",
       "      <th>body</th>\n",
       "      <th>polarity</th>\n",
       "    </tr>\n",
       "  </thead>\n",
       "  <tbody>\n",
       "    <tr>\n",
       "      <th>0</th>\n",
       "      <td>Apple iPhone 13 Pro Max (128GB) - Graphite</td>\n",
       "      <td>iPhone is  depreciating asset</td>\n",
       "      <td>1</td>\n",
       "      <td>According to me guysFirst of all I haven't pur...</td>\n",
       "      <td>0.085000</td>\n",
       "    </tr>\n",
       "    <tr>\n",
       "      <th>1</th>\n",
       "      <td>Apple iPhone 13 Pro Max (128GB) - Graphite</td>\n",
       "      <td>Indians are paying 60000 more than Americans f...</td>\n",
       "      <td>1</td>\n",
       "      <td>Battery is great and performance is good but A...</td>\n",
       "      <td>0.500000</td>\n",
       "    </tr>\n",
       "    <tr>\n",
       "      <th>2</th>\n",
       "      <td>Apple iPhone 13 Pro Max (128GB) - Graphite</td>\n",
       "      <td>Think carefully before buying</td>\n",
       "      <td>2</td>\n",
       "      <td>The product is good but think carefully before...</td>\n",
       "      <td>0.245455</td>\n",
       "    </tr>\n",
       "    <tr>\n",
       "      <th>3</th>\n",
       "      <td>Apple iPhone 13 Pro Max (128GB) - Graphite</td>\n",
       "      <td>refund</td>\n",
       "      <td>1</td>\n",
       "      <td>refund</td>\n",
       "      <td>0.000000</td>\n",
       "    </tr>\n",
       "    <tr>\n",
       "      <th>4</th>\n",
       "      <td>Apple iPhone 13 Pro Max (128GB) - Graphite</td>\n",
       "      <td>NEVER DISAPPOINTS..!!</td>\n",
       "      <td>5</td>\n",
       "      <td>The media could not be loaded.</td>\n",
       "      <td>0.000000</td>\n",
       "    </tr>\n",
       "    <tr>\n",
       "      <th>5</th>\n",
       "      <td>Apple iPhone 13 Pro Max (128GB) - Graphite</td>\n",
       "      <td>Absolutely a stunner</td>\n",
       "      <td>5</td>\n",
       "      <td>I was very skeptical about the genuineness of ...</td>\n",
       "      <td>0.191667</td>\n",
       "    </tr>\n",
       "    <tr>\n",
       "      <th>6</th>\n",
       "      <td>Apple iPhone 13 Pro Max (128GB) - Graphite</td>\n",
       "      <td>Glittering gold</td>\n",
       "      <td>5</td>\n",
       "      <td>The media could not be loaded.</td>\n",
       "      <td>0.000000</td>\n",
       "    </tr>\n",
       "    <tr>\n",
       "      <th>7</th>\n",
       "      <td>Apple iPhone 13 Pro Max (128GB) - Graphite</td>\n",
       "      <td>What was apple thinking?</td>\n",
       "      <td>3</td>\n",
       "      <td>This phone is so heavy and slippery and hard t...</td>\n",
       "      <td>-0.135417</td>\n",
       "    </tr>\n",
       "    <tr>\n",
       "      <th>8</th>\n",
       "      <td>Apple iPhone 13 Pro Max (128GB) - Graphite</td>\n",
       "      <td>Good phone</td>\n",
       "      <td>4</td>\n",
       "      <td>1. Blue Colour is good.2. Battery is very long...</td>\n",
       "      <td>0.235611</td>\n",
       "    </tr>\n",
       "    <tr>\n",
       "      <th>9</th>\n",
       "      <td>Apple iPhone 13 Pro Max (128GB) - Graphite</td>\n",
       "      <td>Amazing</td>\n",
       "      <td>5</td>\n",
       "      <td>Its amazing</td>\n",
       "      <td>0.600000</td>\n",
       "    </tr>\n",
       "  </tbody>\n",
       "</table>\n",
       "</div>"
      ],
      "text/plain": [
       "                                       product  \\\n",
       "0   Apple iPhone 13 Pro Max (128GB) - Graphite   \n",
       "1   Apple iPhone 13 Pro Max (128GB) - Graphite   \n",
       "2   Apple iPhone 13 Pro Max (128GB) - Graphite   \n",
       "3   Apple iPhone 13 Pro Max (128GB) - Graphite   \n",
       "4   Apple iPhone 13 Pro Max (128GB) - Graphite   \n",
       "5   Apple iPhone 13 Pro Max (128GB) - Graphite   \n",
       "6   Apple iPhone 13 Pro Max (128GB) - Graphite   \n",
       "7   Apple iPhone 13 Pro Max (128GB) - Graphite   \n",
       "8   Apple iPhone 13 Pro Max (128GB) - Graphite   \n",
       "9   Apple iPhone 13 Pro Max (128GB) - Graphite   \n",
       "\n",
       "                                               title  rating  \\\n",
       "0                     iPhone is  depreciating asset        1   \n",
       "1  Indians are paying 60000 more than Americans f...       1   \n",
       "2                      Think carefully before buying       2   \n",
       "3                                             refund       1   \n",
       "4                              NEVER DISAPPOINTS..!!       5   \n",
       "5                               Absolutely a stunner       5   \n",
       "6                                    Glittering gold       5   \n",
       "7                           What was apple thinking?       3   \n",
       "8                                         Good phone       4   \n",
       "9                                           Amazing        5   \n",
       "\n",
       "                                                body  polarity  \n",
       "0  According to me guysFirst of all I haven't pur...  0.085000  \n",
       "1  Battery is great and performance is good but A...  0.500000  \n",
       "2  The product is good but think carefully before...  0.245455  \n",
       "3                                             refund  0.000000  \n",
       "4                     The media could not be loaded.  0.000000  \n",
       "5  I was very skeptical about the genuineness of ...  0.191667  \n",
       "6                     The media could not be loaded.  0.000000  \n",
       "7  This phone is so heavy and slippery and hard t... -0.135417  \n",
       "8  1. Blue Colour is good.2. Battery is very long...  0.235611  \n",
       "9                                       Its amazing   0.600000  "
      ]
     },
     "execution_count": 120,
     "metadata": {},
     "output_type": "execute_result"
    }
   ],
   "source": [
    "df['polarity']=df['body'].apply(pol)\n",
    "df"
   ]
  },
  {
   "cell_type": "code",
   "execution_count": null,
   "id": "6c14ba90",
   "metadata": {},
   "outputs": [],
   "source": []
  }
 ],
 "metadata": {
  "kernelspec": {
   "display_name": "Python 3 (ipykernel)",
   "language": "python",
   "name": "python3"
  },
  "language_info": {
   "codemirror_mode": {
    "name": "ipython",
    "version": 3
   },
   "file_extension": ".py",
   "mimetype": "text/x-python",
   "name": "python",
   "nbconvert_exporter": "python",
   "pygments_lexer": "ipython3",
   "version": "3.9.7"
  }
 },
 "nbformat": 4,
 "nbformat_minor": 5
}
